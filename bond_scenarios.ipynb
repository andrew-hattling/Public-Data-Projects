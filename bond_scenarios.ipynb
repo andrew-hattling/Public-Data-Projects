{
 "cells": [
  {
   "cell_type": "markdown",
   "metadata": {},
   "source": [
    "# Scenario Analysis: Rate Hikes and Bond funds\n",
    "Disclaimer: None of the following is financial advice. It is solely for education and entertainment purposes."
   ]
  },
  {
   "cell_type": "markdown",
   "metadata": {},
   "source": [
    "![title](https://memegenerator.net/img/instances/66021307.jpg)"
   ]
  },
  {
   "cell_type": "markdown",
   "metadata": {},
   "source": [
    "## Background\n",
    "To effectively manage risk and returns, it is important to know how a rate hike/cut will impact the price of bonds in a portfolio. \n",
    "\n",
    "A major component of a bond's price is its yield. \n",
    "\n",
    "Bond yields have two major components: \n",
    "- The risk free rate\n",
    "- The market risk premium\n",
    "\n",
    "When the Fed changes interest rates, it changes the risk free rate. \n",
    "\n",
    "Duration is a measure of how sensitive a bond's price is to changes in interest rates. Calculating duration is complicated and beyond the scope of this python program. \n",
    "\n",
    "Bond funds are required to disclose duration and the information can be accessed through Yahoo Finance. \n",
    "\n",
    "## Application\n",
    "\n",
    "The following formula is used to calculate how much a bond's price will change in response to a rate cut/hike. "
   ]
  },
  {
   "cell_type": "markdown",
   "metadata": {},
   "source": [
    "![title](https://slideplayer.com/slide/6384579/22/images/17/Change+in+Bond+Price.jpg)"
   ]
  },
  {
   "cell_type": "code",
   "execution_count": 1,
   "metadata": {},
   "outputs": [],
   "source": [
    "import pandas as pd\n",
    "from datetime import datetime\n",
    "import yfinance as yf\n",
    "import concurrent.futures"
   ]
  },
  {
   "cell_type": "markdown",
   "metadata": {},
   "source": [
    "## Defining the Function\n",
    "The funciton pulls the fund's price, yield, and duration info from Yahoo Finance. \n",
    "\n",
    "It then uses the above formula to calculate the effect of the rate change on the price of the bond. "
   ]
  },
  {
   "cell_type": "code",
   "execution_count": 2,
   "metadata": {},
   "outputs": [],
   "source": [
    "def bond_scenario(current_yield, rate_hike, current_price, duration):\n",
    "    new_yield = current_yield + rate_hike\n",
    "    yield_change = new_yield - current_yield\n",
    "    percent_change = (-duration) * (yield_change / (1 + current_yield))\n",
    "    price_change = percent_change * current_price\n",
    "    new_price = current_price + price_change\n",
    "    print('If interest rates rise/fall {:.2f}'.format(rate_hike * 100) + '%, the price is projected to rise/fall by {:.2f}'.format(percent_change * 100) + '%.')\n",
    "    return percent_change, price_change, new_price"
   ]
  },
  {
   "cell_type": "code",
   "execution_count": 3,
   "metadata": {},
   "outputs": [],
   "source": [
    "def fund_scenario(security, rate_hike):\n",
    "    fund = yf.Ticker(security)\n",
    "    today = datetime.now().date().strftime(\"%Y-%m-%d\")\n",
    "    info = fund.info\n",
    "    bond_name = info['shortName']\n",
    "    bond_maturity = info['bondHoldings']['maturity']\n",
    "    bond_duration = info['bondHoldings']['duration']\n",
    "    bond_yield = info['yield']\n",
    "    bond_price = fund.history(today)['Close'][0]\n",
    "    print('-'*100)\n",
    "    print('Fund Name: ' + bond_name)\n",
    "    print('Current Yield: ' + str(round((bond_yield*100),2)) + '%')\n",
    "    print('Fund Maturity: ' + str(round(bond_maturity,2)))\n",
    "    print('Fund Duration: ' + str(round(bond_duration,2)))\n",
    "    results = bond_scenario(bond_yield, rate_hike, bond_price, bond_duration)\n",
    "    return results"
   ]
  },
  {
   "cell_type": "markdown",
   "metadata": {},
   "source": [
    "## Using the function\n",
    "Given a bond fund and a rate hike, the function will calculate the rest. "
   ]
  },
  {
   "cell_type": "code",
   "execution_count": 4,
   "metadata": {},
   "outputs": [
    {
     "name": "stdout",
     "output_type": "stream",
     "text": [
      "----------------------------------------------------------------------------------------------------\n",
      "Fund Name: Vanguard Total Bond Market ETF\n",
      "Current Yield: 1.95%\n",
      "Fund Maturity: 8.7\n",
      "Fund Duration: 6.84\n",
      "If interest rates rise/fall 1.00%, the price is projected to rise/fall by -6.71%.\n"
     ]
    }
   ],
   "source": [
    "bnd = fund_scenario('bnd', 0.01)"
   ]
  },
  {
   "cell_type": "markdown",
   "metadata": {},
   "source": [
    "### A list of funds can be used for efficency's sake. "
   ]
  },
  {
   "cell_type": "code",
   "execution_count": 5,
   "metadata": {},
   "outputs": [
    {
     "name": "stdout",
     "output_type": "stream",
     "text": [
      "----------------------------------------------------------------------------------------------------\n",
      "Fund Name: iShares 20+ Year Treasury Bond \n",
      "Current Yield: 1.5%\n",
      "Fund Maturity: 26.28\n",
      "Fund Duration: 18.9\n",
      "If interest rates rise/fall 1.00%, the price is projected to rise/fall by -18.62%.\n",
      "----------------------------------------------------------------------------------------------------\n",
      "Fund Name: SPDR Portfolio Long Term Corpor\n",
      "Current Yield: 2.97%\n",
      "Fund Maturity: 23.7\n",
      "Fund Duration: 15.45\n",
      "If interest rates rise/fall 1.00%, the price is projected to rise/fall by -15.00%.\n",
      "----------------------------------------------------------------------------------------------------\n",
      "Fund Name: SPDR Portfolio Short Term Corpo\n",
      "Current Yield: 1.34%\n",
      "Fund Maturity: 1.98\n",
      "Fund Duration: 1.81\n",
      "If interest rates rise/fall 1.00%, the price is projected to rise/fall by -1.79%.\n",
      "----------------------------------------------------------------------------------------------------\n",
      "Fund Name: iShares 0-5 Year High Yield Cor\n",
      "Current Yield: 4.99%\n",
      "Fund Maturity: 1.87\n",
      "Fund Duration: 1.81\n",
      "If interest rates rise/fall 1.00%, the price is projected to rise/fall by -1.72%.\n"
     ]
    }
   ],
   "source": [
    "securities = ['tlt', 'splb', 'spsb', 'shyg']\n",
    "rate_hike = 0.01 # 1% rate hike\n",
    "for security in securities:\n",
    "    fund_scenario(security, rate_hike)"
   ]
  },
  {
   "cell_type": "markdown",
   "metadata": {},
   "source": [
    "## Analysis \n",
    "As per the above examples, funds with a higher duration are more sensitive to changes in interest rates.\n",
    "\n",
    "Interestingly, funds with lower interest rates are more sensitive to interest rate changes. A lower interest rate means a 1% rate increase is a higher percentage of the current yield, causing the price to change more dramatically. "
   ]
  }
 ],
 "metadata": {
  "kernelspec": {
   "display_name": "Python 3",
   "language": "python",
   "name": "python3"
  },
  "language_info": {
   "codemirror_mode": {
    "name": "ipython",
    "version": 3
   },
   "file_extension": ".py",
   "mimetype": "text/x-python",
   "name": "python",
   "nbconvert_exporter": "python",
   "pygments_lexer": "ipython3",
   "version": "3.8.3"
  }
 },
 "nbformat": 4,
 "nbformat_minor": 4
}
