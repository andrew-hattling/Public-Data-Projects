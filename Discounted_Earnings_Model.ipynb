{
 "cells": [
  {
   "cell_type": "markdown",
   "metadata": {},
   "source": [
    "# Valuing Stocks with Discounted Earnings\n",
    "Disclaimer: None of the following is financial advice, it is for educational purposes only. "
   ]
  },
  {
   "cell_type": "code",
   "execution_count": 1,
   "metadata": {},
   "outputs": [],
   "source": [
    "import pandas as pd\n",
    "import matplotlib.pyplot as plt\n",
    "from datetime import datetime\n",
    "import yfinance as yf\n",
    "plt.style.use('seaborn')\n"
   ]
  },
  {
   "cell_type": "markdown",
   "metadata": {},
   "source": [
    "## Gathering Stock Information from Yahoo Finance\n",
    "![title](data:image/jpeg;base64,/9j/4AAQSkZJRgABAQAAAQABAAD/2wCEAAoHCBUUFBgVFRUYGBgaGBsbGhobGBgbGxsbGhgaGxobGhgbIS4kGx0qIRsaJTclKi4xNDQ0GyM6PzozPi0zNDEBCwsLEA8QHxISHzUqJCszMzw0NTMzMTMzMzM1MzMzMzMzMzMzMzMzMzEzMzMzMzMzMzMzMzMzMzMzMzMzMzMzM//AABEIAKgBKwMBIgACEQEDEQH/xAAbAAACAwEBAQAAAAAAAAAAAAAEBQIDBgABB//EAEIQAAIBAgQDBQYDBwMDAwUAAAECEQADBBIhMQVBURNhcYGRIjKhscHRBkJSFGJygpLh8BUjU6Ky8UNj8iQzNMLS/8QAGwEAAQUBAQAAAAAAAAAAAAAAAQACAwQFBgf/xAArEQACAgEEAgICAQMFAAAAAAAAAQIRAwQSITETQQVRMnGBImGxM5GhwdH/2gAMAwEAAhEDEQA/AMZj8KxRvZhmKtH76tkYjuOZT50pxeDe2criJ21kHzFMmRlv5AzFXRshJJhWUlYnoQPSvcXcW5ZZ8ygyrZZ1DnRwB0OjetdPFtGerQGGzKG5j2W//U+mnlTHhnEynsPqh/6f7d1J8JcAaD7rCD3dD5GDVxUgxz2p7Sapkc1TOFdjFkK/8reIGh8x8qvXCNEtCjqxirLRte6WLZoGghZG2vw86dYE6doVATRlrhrsJICjqxj4b0bh7js2S0gU/uiT5saZ2+AO2ty4Z6DX4mosurhi/J1/kljHJP8AFCZcNaT3mZz0XRfWrVxmXREVR3CT6mmzcBTkW9R9qJt/hUHXO3hpVZfJ4H23/sGWkyPvkzT3GbUknxNStW2cwqlj3AmmeP8Aw/dtywGdR03A7x9qu4bi3/Z2FsAujAARMhj/AHPpVuOeE43BpkE8coOmqAMNgHa52Z9kxJnkPruKKxfDFCF7b5wvvDTSN9qvwy3Uvq90e+MkiIHMDTvFS/0lJZWuFWcsVUEbSYkc6a5u+xgTdxC2OzTIMjD2j6a9+80Fj8GEuPbHuupK9zDWPX5irsfZLYcBvftmD4DSfNSGrsRc7TDpc/MhE+Ryn6Gmx4p/wwszINbL8OW8tgH9RLfGB8BWTx1vLcaNj7Q8G1pyn4gFtFS3bJyqBLGNh0FPyxlKNRJn/UlRo8ThluKUcSD6jvB5GsfxDANZaDqD7rciPoe6p3uOXm/MFH7oj4mTQD3mYyzFvEk/Om48co9sMItBk5rI6o8eT/3FDg1fgDOdP1oY/iX2h9aFBqUMe2i4GjeFY3snk6qRDD6+VLwamtBpNUwv+5pTjcMrm4CS5HIN06HQGlF3HM13tNjIIHIAbCqrWCuNsjeenzoleGke+6L5yfSolCMRu6MfZXisW9wguRptAiKpBo1bFld2Z/AQKtW/bX3bS+La0eukDyL0gFELbAnwBNFW+HXT+WB3kCrmxznYgeAFUtcJ3JPiaXIPJIvXAKPfuKO5damq2V5M/joKEFezSoa232w4YsD3Lar5Sai+Lc/mPlpVNnDu/uqTRD8PuqJKGO6D8BrUPkxqW21ZJ4Jbd23j7ByxO+te1EVIGpRqJA17UK9oBMhice1x0YAKVAChRtGorxOHudWAQdW9n4b0R+1EaIqqO4a/1HWq0R3aACzepqVcC3v1wSXD2l3LOeg9lfU61ZiMYwUMgC8mgS3d7R7vlVRskJm/eykcwYn7+leWoMqdmEeB5HyP1ojfdvkCe4zHUlj3kmjeEcMuYi6LVsQd2J2QDdj9utBoCridCGE+Rr7N+HeGIim4FAe7BY8yBOX6nzqnrdT4IWu30W8UN0kvQDhuFJZWFGp1ZubHqftVV5IrVXcGOdIOJqFkCuYlOU5bpO2aKgoqkAWElqeYe2NKScOMsaYXseluC7R0GpJjoBrQYUG3kExWR4zhDhrhu2kzLc0ZB+onRhA8RHfWkt4+3cbNbYMPiD3jlUuLYcXLLAGGiV8RqPjFWNLmeKa+vf6Is+NTgzE8LvPcD2rhOb3lzbg7jfocpruIhnW3etgll3A1IM9B0MjzqleNIDn7L/cywTOlLsPjrlskoxEmToCJ6wa6lQb5SowzSYnFIlwK+iukGdgRI18QYnuFCOqWbD2+0Vy5OUCJ1AH0mkdy61xpYlmP+bCrbeEuH8pHedPnRWJJK2BtIjihmto3NSUPhuv1oIGm9rDqQyM6yw0CmSCus/OqVt2V/W/oo+9Spj45ElQADV1qyze6rHwB+dHLiVX3LaL3kZj6mufGXDux8tPlS5HeRvpEsJgbiMrnKoBB9pgNOfwqdzBW1Y5rh391V1AOo1oUtO+tE4kyEbqsHxXQ/SmtOyNuV9klNldrZb+I/QVaMcw91VTwWgRUgaG1Br7CHxDtuxPnUBRvBuH9s5BJCqJMb67AfH0prZwGFu5kt5gy85brEwdCJqKeSKdDkZ8VIV162UYo26mDRvCrdpie0nSIAnXrMa9KdKcYx3MSTk6R4cC4t9oYy6c9dTG1V4e2XYKu5Pp1Nah7Pa2yiKYIgabRt8qK4R+HgrDMQD0Gp9axs3zWHFF27f8AY0MXxuWXMuF/yKk4daSFILsfH5Daj0/DUnMBkHOZPoK1NvhyIdIGnvc/WrbuGgSDNc9qPmc2T8XSNLDpMOOqVv7YHheDJbSYmBOv2pbxJv8Acj90H51osLcJX2gI2ms7xyC4CkiV0I33PWoNFl3aiLbJc1vHKL+mY3HKBccDbMf71UDV2NwptvBMg6g9fHvoeu+j+Ko5pEhUpqINdNEIgxmEVDmSWUNlYNEgg7GORGxprmDOdBqmZCogshEMviNx5UJZuB1DNs4CXO4/kevMGbyAoMmhYLm3zLuqnkTvBpO2uSMlibGZSAylnyHQiCVbJm7pDg+RpZisM1swYM7EGQYMHzBo6/bCXnUeyHRjH6SyzH9QqvFYpHt6k58wMRoDEMQeh0MdaMbQRfiLRcoRuxCH+LYHzEehr7I2IyAAcgAPIRXyXhrDtUDbF09QwIPr8zX0DEYqsf5dtuK/Zo6N8MaXeIk86UYq9NVPiNKFu3dKyEi42X8MeLkdaZ8SwFwAPbRXdiAQzZQFnr3DlSLCvDqehrTWMaRsaL4dg7VFCcLW04uDQkagHl30p49hGuEey7SwVSrQLYgnMRz5Dzp+13NPhVDXAq6/5yoJ82Frij5zirdu07I7szKxBCrGviaoOPtj3LQPexJ+FV8SY3cTcy6l3geM5fpRN7gLANluI7KJZBuBXZYpLxx3PlpGNOEVJ2UNxS4diFHRVAoZ7zN7zE+JJpxZwNhLVt7mYm5GoMBZE/Dzovh/DhauXdAxVAyT0Ob4yIovJFdIb/SukZ+xdysrDkQaYYlIcgbbjwOor3H4wXbSs1tlcH3wsIROxJ/yarzZraNzWUPlqvw+VOTsZP0zwGmGM4a1tVfcEDN+6SOfd30LgLWe4i9WE+A1PwFbMgEQdRUeXI4tUNsxINFIZtkfpYHybQ/GKI4rw02/bTVOf7v9qFwRliv6lK+e4+Ip6kpRtCfVlQNSBqANeg0RxpPwlc9q4vMhT6Eg/wDcKp4eezxZXkWZfIyR8YoPgGJFu+hOgb2T/Nt8YplxnCuuJR1UnMUOg/MpAI9AKqSVTaftCI8esAXgTswE+I0+UU+4NhbOUTBboTA/vSj8TAF7QmJme4Err86qx9psNkysWBnfuj71na7S5NRiUYOn/k0vj9TjxSamu/f0fQ8BGUjKBB5DlFD2bmVx3GPpWZ4Px9tpkDcH6GnXbBvaEjNrBrh9VpcuCTUzosSU05RdpjfiDaDxqeBeV8CaBTHArDia5saIyoIFVNzB4pVtoPw7ZkgdCKQcXtkMhOkZh/nrRVq+y7GgfxBeZrYadQSNPCrehm1nj+wSxNKS9NP/AAZzjdwF1UbqDPieXw+NLgagxr1TNemQVRSOPfZOvZr1bbHZT6Gp/sz/AKTRDuRk8NiGttKnuIiQfEVc/avJIb2jmPIT1oa9i3UkAhRyyqBI5Gd6Hvl59vNO/tT9aeFQsMa2N3dQfHMfhUTdtD9TeQUfU1CxgGZkWQA4lTygTPnp8RRKcKWGLPKwMrKNPeysWB1GUxPjSckLavbKF4gFIKooggyZY6HvrZNenWsTjMPkVZEN7at/ErfYitLwm7ntIeYEHy0rK+UhcVJfouaalaQa92qmuVXfMUMLtYpbsYWWp5ZOgrN2Xp3hrmZYmDSYUSxnETZ2UMSNiYFUYjGXLluTbyTsC0nXrppVeIt3w4Bt9rHukR/1T96D/EGPuWsvaZc5YHKNYE6gnQbaedSYIb5xS9jcktsWzG27jI4b8ytPmDPzp5wbEPdxJeAvsnNExyA356D0oTjWGAuhgYS5DA8hPvH6+dM+G4Tsu2tlwGKrlc6aEMJ35Ga6x1t/gypNNWQwLLcW8jgNatszLE5gMzGBHLf1o7D3g7pfRjkjs2UiCsmQfUjyNLcPkwpzC6twN7Lqsba6gTrB+deftli1auJbdnLzAgjLIjeOX0prjfQxq+hl+2EYg2HC5GWFEcsu3eNCKTpayPds+a/y6j/pNWWuNocrXLeZ091gY8yP/NAtji17tTocwMd20elPhFp9CceGg3huKFt85XMYIAmN+dMW4+591FHiSftSfEW8rEcp08DqPhUFp0oRk7aIuxlc4xdbQsADyCj60Kj5SCORB9K8Ww52VvQ1cuCuc1jxIFJKMehWjsUsO0bEyPA6j51WDRV6xKqWdFgZSS3TbbuNVZbQ3ujyUmkmqDF8FYpvZ4/fVQsqY5ssn1nWlva2RzdvAAfOu/bLY2tk+L/amSipdodz9FmIxT3Gzu2Yn5dAOQrmuM+7M3iSfnUP9RA922g8QTTDhV+7cbkB0VRqeQqPNkWKDk/RNgwzyTUUhrwPAE7g9WgcuQ860gtsfyn5UHaJQZQdfzEcz9ht/wCakXJ3J9a81+R1UtRlb9HbYMHjgooMFo8yo8SKmLQ/WvlrQBcAEnYb/Yd5pBi+MZLkzr3HboBTNJoMmptRFlnHGrlKjXAoPzE+A+9DcVZTaMA6MN/A0DguLJcHtf1D6rRuLtzZcggjQgj/ADvow02TBnipL2Me2UbTMi2PQbW18/8AxUDxV+SqPI0LibbKxDKR0kRI7qoJr0uCTSZxsscU2HNxG4fzR4AVD9sufrPrQoqU06kJQj9CBxmXvXUeHP039aY3j26idc4lP3Lij2k7gwEigC5LZuZMn66VK1eFskEEo0MI3VgdCs8wdO+nSQ2JdhcS9xTbZjnSGtnQEMg1XzHyqVjEFcOzkye257ar7QI6ETQ2JxqliyJlOfMraA7CQwG+utWWeJ3FZyiLDtmy5SwB5keNDaxzQTh763dXVffygGcoLJCk6ydUHrTHg9rIzKAQrAOoO6nVXXyI+VIGW6+b2T7ZBPswJExHTc004I7rdHasYK5VlgdSQQN9NvlVTXRXhdkmB1NUx1ibOlK3t6GtFeXSlpt6mudTNBoTLishhvWm2AxwnehsVg1bcUmuW+zPsSBOupinwg5yUV2xspbVbPpmDxwyAzXzf8Q4w3sQ7CSAcqxroNPnXhx9zT2iAOXKvDjH/UR4QPlW1odFLDJylV+iln1O5UkUdjdcAEMwUeyCDAHdO1e/6dcO4A/iZR9am15juzHzNe3LLrqysJ6gj51qoq72RHDutxB5k/IVIYK2N7hPgp+tSwuGe42VBJ36QOpq69w+4jKCvvGAQZBJ76NpOrGuT+yoWbI/WfNRVga0NrU/xMx+FE3eDMAcrqzKJZBuBUsPw9OzV7lwrnMLA+Zobo1dgbf2U4nGEIrqi81MrMRsPShDxS5+qPBVH0ovFYQoHtkhtA6kc8u/gYn0pfgcL2rhA6qTtmnU9BHOiqqwwjGuUSbF3Dvcb+o1WzE7mfGnifhhudweSE/WuxnAkt22uNcYwNBAEnYDnzpvkjdJkicV0LrBzWnX9JVx/wBrfMUNV3D2/wBwKdmBQ/zCPnFV2WCuMy5grDMvUA6inhjw2gvD4C49t7irKJOYyOQBOm50ND1tuC463iLdy0lsW1CxlkGQ4YToN9KxBUqSp3BIPiDBqGGRybTVUGLsuw9sswA51v8AgHDAqZtoGnj1/wA+lZz8O8OLMOp59BzNbq04DZBsF0rlvn9c/wDSg/2dH8dpXCO99sGwloOSDOnSrgtqYkk+f0qvDkK7AmBrv4yKpxt5FhF95ufcenjtXLY8Ess1FezWyTq23wUXnFy4UU+wpJ8TtPhyH96T3ONIl1rbW1CAlS0SZG5iNRNF4W2beJZSdHt5l/laCPj8aHx/ELdi7l7IMW9p20n2jy01+Fd1odJHBFRSvg5HXat58nHS6/8AQLt7H7QrI2VN2EEAEAxA6HTSi8RxhQStskg+IE+BqP4jwKBBdQAGQGjQEHYx1mPWlXD8Z2RJNsPMRm0iOhg9auT0+PKlJq2iLDqcmNf0t/o0HG4OHlhB9kjxJEj0mswDWnvWFxdoXBmVoMDMYBHIjbziaywNTYeI0RRfZYDUqgDXVKOEz3kUkZSfFt+/QV7bxCt7ORf3Zk6+Z5/ahfeXvG3eP7fXuoq5h1JBUgaCQJ0Yb5Z5Hfzpk80IfkwRxX0TW62yqoPcon5V6b1wj3j6x8qkNDI3/wAmoM9UM3yHrGv5ZJDTruQO16dyfM1U7nrXuJtnUiq8xiaz8maeT8mWIQjHpGn4Fx3PFq6YbZXP5u5u/v507fDkGvnYNfUvwTiLeNtm0zBb6Lz2uLtmjryMfWq+y+iVTrsTYlKsvfhxjhbt0mOzClxlmQ5ygA8sujetaK1wB1vf7ggA6Dr0M9K034kwgt8MxKrqexck9Tl3/wA6U7A5RkpL0DJtcafs+DspG9eUUTVRUVsw+Ri/yVfopS0z9M7DXcjq0TlYGPA07weJN97qmcjLIB/KdAI+J8qR9l0M024WB2Vxcyo7GJYxpH/yq2s0Jq4uyvPHKPaAMDjDaYsADKwQfL7UzwhIwrs2gDSniCIjzn40IMBbDZWuqZUkFSIDDk1GM9q5ato10JlAkATrEa/H1qVtMjYXadMyX2ORnXLl3BPIzy5fCvRYHZstxZ7NmeAdx7REd2pHlQDXrTJ2LOcqkFHAJ8QR5mrb3F1V0ySyhcr6RO0b89D60za/QCNy1bKLftrlAaHXu2Pz+NZ/E28jsvQ6eHI+kU8bGWktOlvOc/Jtl86VcQEhX6jKfFf7EVNC/Y+Dpj7gXG88W7h9rZWP5u4/vfOq/wAV4r3LY/ib5L9azANW3bzOczMWMASd9BApeFKW5D9quySNBBG419KJ4gv+4SNmAcfzCfnNBA0Zd9q0jfpJQ/8AcvwJp77C+GmNfwficuIC8nVl8x7Q/wC0+tWcQ4d/9W4j2c2fyYAn4zSPCXWS4rIYZSCPHwrZ4HO57S4czADkBJ3AgchvWdr8vgTn9ou6HTPLlX0N8DY7FUYjffqBBgfX/wAUbbxSFxCmSd/HzpYbzEQSSK9SeVcLmTyScn2zr1BJUMeIOqmSO+dpJ0A+HoDSO/hLty4jiMmZWYz0OwHlQ3Gsa5ELmbkNCfFqzq2rp/K8dIYD0rovh/jHGPkl2YPyespeOL/ZouNcTW3iLZX2sgbOAeTQI8dJjwr3ieEt4krcS8i+zBkjblpIIOp0NZxcBc/42qY4dc/QfVfvW+sSVU+Uc/aXsf8AG+JoEW3acMwZTI1AyajUaTIFSxOLw+JRc79mw115dROxH2pEOHXP0j+pfvUhw5+qD+cUVjSSp8iuP2O24nas2uztMXaDBgxJ5kx8BWdU0SOHt+tB/P8A2qQwH/up6n7UYxUQqUV7BgalNFDBL/yp6E17+xp/yj+k0bHeSJnrFgZXdf1HLO+UGhHc04XDOLcwFZSQVgCQQCDpvz9KWXhB6Vgapt5XZdx/ijxMT1q3NNDeVSU1APLmMVSQAJG1WTII51R2uU0hHFQRIonhePuWLiXbbZXRpU/Q9QRoR0NcoBGm1UOkUhH0Kxxk4tWNxmZmEOpPs+GXbL3Vy8TuWLd6zBOGuWrlsjUi27IcjIOQOxA8dxWGwGKNtgZOhEwSJHSvo9l7dzCXlQAlk7RT1yiD5jT41oQyRyYmmuUUXBwyJ3wz54p0qtq9sn2R4VG4NKzy8eq9EBgd6FQa1Jm1op0Iua0vhVee1+pv6R96sLfMUDibZVjPPUd4OxrW0GaUm1J2Vc2KPa4C+1tfv+i/eu/aLX6X9Vqy7wgrY7Qn2gQSoIIynnpzqyzgLHZLcd3XMY0E+0JkaKelaW9Fbagf9qt/8bn+YfaiLF5HVlyHT2gCx1jQ7dxqOB4fbuPcOdiiCQQIZhqeY7jyr3s7SFLlu5KkwyMVzgGQZA3H9qO5XQJRXrv+SIa3/wAQ82b716Lq8rS+eY/WovYIYg8jV2HwxYgKJJMDzp7qiPs8F0f8Sf0n70RYvEq4CKIGYDLppvp4VxwrAwQQRuKKwOFOcbxsfAiDTJSVB2buiXDFdzOVeghFGvpWjtuyjKu38I1PM6ioYHA5F8oHh18/83pzhuHrBkhjHLlXM/J5fJLaukdV8bijhhfti0Yi51ND4/HMqkFjtr4ch50U65RJ8h30uwlgXbjZvaC8uRJJ1NQaLRKct8ukSa7XLFDbHsz93FXGJOZvU1DtH/U39RrR4bDWrxZDbCETBXfeJ0HhU8Bw9LaOXVWcFtDHLaAetdMskYqkjlJXN7n2Zr2up9a8ymtbh8Il9GDW1VhzURvsajwvh6qjNlDOCR6DQCh50vQNplAO6pxWpwaC8rC5bXSNQI3nbodKCsYrsgbZTNlZtZjn4GneZviuRUJAa9BrU4HEdpJ7MKo5zuem1IuJ3A9xmXbbxjnSjPc6aECivZqNe1JQSGHw1xw4mdcwBGsHQjxBHnvzpVjrLKT7Pz+1X8IxQ7SMz+4QBp3aDWp8RRzvPmdfhWDrY7chfwXt5EyXOoq5SDQ7NB2+Iq1CP8iqpKTYQJ6fLnVGLXSRRGWaFuiFy9D8DSETwVzlRLa6f4RS3DmDTAANv5EbikIgyxT/APDHF+yfK3uNI8JEH1GnpSQgge1r3/fpXARToycXaGyipKmTtbf51r168URXTTRxFN68J1qSDWqQwzEd9IQQG2qeNXMgI1KmO/K3Lyb/ALqoRtasutKkCZ028RVjSz25ExmSNxCOBPluNacEB1KkHTWDGh7iangb1xA9pbYdkYsCY9mNCQp3/vQd43mcOytmEQQp/LttUjfv9p2gVlfuUwdI1Fb1WUnTHuAuowS9AXN7DgaAn8pjxgfzVyWluXHsOiqVEoVWCBy+Y+NKL2MvOuQplWcxyoVkzPz1plguI3dJVS0QHKHNHSaa4tcjNp4MOWCsd4yt/Ensn6VoPw9wyWLke7oPE/2+dVcJwpZWB3nN66N9PStVwzCsogaDwFQ5c39NIdGHoHxXBBc1Ahhz69xrsBwWNx4/atPhsKx3PwFMEwlZ+TUSUaTLmHGk7ZnXwGxjcD7VPDYXK3dB+9P1RDoCCQdRI08a58LWft3M0XqKRi+JYYsTA8B0BqrhXDyrmREj5a1r7uBDGYqT4WY01HOtCOVRjtXRm5U5yuRlMPw0reOm5Px1q3E8IzXNBvHyrWLhhMlRPWpph9Zig87uxixGb/YRbXKokn/JP2qnAcMiW18Pv1p/iruXMezBVSuYyJ9owIEa1dZQN7SgQeVBZnTQfEZi3azEqVygzqND50lx/CcjEDUbjzr6A2FUGcutAYnB5jJFSQzU+BrxGWxOF7KxA3iPM7/WsvdsRX0LilnOsRGs1l8ZhIq1gyfZFKFGbZPWq5o7EW4oXJV5OyJgPAkbtFWAyoSwMalSJBHlPqelXcYxIdmCjMJ35UBw+5kce00RERyPQz/k06xmHRUVU105dTrqayfksaW2S/ui5gldozL2iNYFeKoPX1ojGWWG5yihU86zCwSZSNRrVGIYMmYdPkaMWtD+Kfw2i2lxeFA7J0BuKGJyNtmXNrlnQg+6R6Juhyg2m0Yiy9MENL8OtGq1JDQpGnQ1E24226faq1arEeiI9tsGGhryaGxSlTnTQ8+h8RU7d8OJG+xHQ0hBCUI2l094B+n0opaGxIhlbxH1pCLLJogNS+w550bbbWKKEW37TJB1ggEeYqb2biormcrbHN/fSiMIqs2VtAwgHoeVH4dMlt7dwSF178h1JHeN66DBm8mPcl12v+zNyx2yoW5biHKxYHTTNyO2xp3gLd0PkJbN0knlPXpQuOsns0c6lPZJH5l3Vvl60/w3/wCSp65fisUp5OBkUh5wm0wIDFu8GedaK1mXKqgu7GFWY5EksfyqAJJ9JJAIWDXNPVTHlypm1022W6FLAAq6iJytElZ0JBVdOk91ZeabZexRRX/qiKSpxOHDAwR7RVSNCDc0Ag9RRF7ir2zkuKqv7JnMShRjGdXCyQNZEAjwIJQ4DhVnMRh79tgfdtXZS4B01EmNvc8zvRdjCKjG26ujokKrMWATYdmZIyaDQRECQKpN2Tl/EnWwtlhetBuyY5TIN1tHJSJ3Yn+oUeOJFlOQKAgl3dsiIInVoMtGsdNyJEpONWQ1zBTysH5W6940sYSyg2uYls/eFNxlB8Cif0CkIZ2OJdo2W1ds3HiQntWywG+UsDm08u8URb4mGSQvt51Qq2hVi4QhonYnl0oB+FqlpLi6MjI4PerA/HUeBNUcVbJjyo2dsM58e0RPkgpWChhf4oyOyXMloK2UM7NDnKrf7aAZnADCToAdNdYmOJFVW5mR7TNlFxCYDTEMp219mZ3gQKUYvDdtxG9nMhBbRe5ezV4/qdj50RjcOLeExSrt2ltvP/a//kUrCXcUecPiiP8A2/mtW8MxRyIiKGciYJgKvN3aDA6dT5kCYXDPfwuItoRnbIAWMAbGT3aUFxa0bduzZtsGs3h/uXwQe1YfkJGiplBOUTIBGwbMrEOMPxjPIRA5L5Eyto+klgSBCCG15hZEyJov8StglWxGHVgYYe0yqRuC+gEd4q2zhzhwlxVzBZzKIkqwg5ZMSDB15Aik2F4VZLEWMQjZictu7mS4JO0kSQNh7Hmd6NsFDC7cIfJcQBiuZSrZkdT+ZGgT3ggEaciCVXEbSdG9RReGwWS4LdwOjKvsKzFlCT/6ZkgLoNBEQJA0r3jNjKOs1awTdkc4oxOPNscn/wCmljXLX7//AE0x4ou9JctbGPorOCEZWDHMHQ9fD51pMNdz2ww6e149aznZMNSqmI2MH0nejeGY2ARsp31276g1ePfhddrkOFuMiGMQsZO3Klt0Qda0GKtdKUYxAPaisIug6XKd8I/E12wvZqEdCxJR1zCCIcDXQEVn1Y7mvbR3NKr7DGTTtFuKs2y7vaUohdiqEyVWdBmjX/N9679mPIiKizQI66etX5qNAKhZYcqkFI5GrZr3PSEVskjagDZZHkAwd9DtTYPUcwpCI4a2zEKoJJ2HM1VxTCug9tGWDzBHdRAaa+wcNS3jMJausoYumVwRPtpKtv1IJ86ZOTirRJjipPa+D4Php07qYYdgSdda1X40/DKWU7ayoVQfbUbR+oDl3isciGNOfOhCakrQsmNwdMZK1PsFc7Rf3lETy15HuNZRLI5kk+NOuB3ir5Ax9rTeNeWtaOiyuGRfTKmohujf0WDENbRrLqSskLrqvMDv1prhMcGuK4B0yzty3r29Za5KSQ/I856Gldq7ctvkYSf4FJ035Vs5MaauJRhbZ9L4VxHM2nu9CB505xN4AqGuG2hVhnhSFfTJnzAwm+sjWBOtZHgF0wGYD0jXpWrt3lcQQKyNTjrgvYmD3+FvcQ57Vtp/MLim2e+TrH8tDYzEh2w9pHF1rNtle4CWUsQgyh/ze4ZM9J1mL34JZmciz4CjsFhbdvYVT8bJdyA8ZZa4mHvW8rLbtFLgLhWUgJIIOkgqwI8Kqdlu2exLqjrc7WwzmEctmLIW5N7biOhUgGCAbiuF2bjZyqz1gfOr3wltkymCO+hsYtyIPdcIov5bKKys7M6ksFIYKiqTOYgDloTEmkiXTfxJxJBVDes5c2kItxACZ2mC0cs0cqOXgloGQFHhApiltVXKAI8qOxi3IDw7A4/EMpBBa3qNR/8AZt8xVnGrg7DFLIzF7cCRJ1t7CrsMgtmVWPKuxCo7AsBPhS8bFuQpeP2LEoWALBABIBIbKDpznUVDhGFWza7G5P7PcI1/4bhIKup/KC0Enk0Hmxpu9q20SAYohnTJlgRS8bDYqt45lbsLt3IFBBuKFKkmOzdswIVCA06iGETGtdieFvdU5rVt5/OrqUPfLax5HzolcLbWYAE0vxPCrJ1yifAUvHIFlOPxYnDWbbi69lGFy4pLKCcoyB/ze7r/AAidTRXG39hT/m1DKVt+7HoKF4txhezhWBY6EQdiNas4cck0RzkZXiT70lNyi8dfmleatnHHghbKHuMIDo0jmIOoMjQd/wBaFFwJckGVYmRBEAnaDXV1OcUrRFBjNHj/AGyZj3D1Xp4ihsVB0O9dXVzEvyZoroWXPpXtuurqSEeRLDu+dXBq6uoiOz1xeurqQj0NUlFe11IR6tar8L/ia5h1NtivZCWAOjZ2In2idFgHlua6upmT8STF+RL8TfitL9s27Q1f325AHkOp76yECvK6m44qK4Dlk5Pk42z+VjVli6ZGsEHSurqmiRGy4Zj1u3JBGZQZ5ZiBv4/aj79ktlcCHKwT39D9K6urqHxT/sjHfEmg3CuAhX8yHfr1Pw+FNlxSqkHQqAT115V1dVLJFSnyWYyaXAJd41JGu/00ij8NjFcSrnvB5V1dUGWC5HKTom+JIBOcQKGTi8mJ3B+4ryupkIph3OiteKliADqasu4pxOoMbgGSPKvK6nOKsTkwT/We+rE4yx2JPhJryuqR40N3MmvHD1qX+t+HoK6uoeOIdzOPGR0Hxqp+LKeXoTXV1JY0LcwDE8QQ/qHmPqKUYq9bP5nHkD9a6uqeEUROTFN20h/9T1Q/Q0P+zL/yJ6N9q6uqzFEW+R//2Q==)"
   ]
  },
  {
   "cell_type": "markdown",
   "metadata": {},
   "source": [
    "Things to consider about the Discounted Earnings method: \n",
    "- It is primarly geared towards equity investors. \n",
    "- If earnings estimates are wrong, the model is wrong.\n",
    "- This particular model considers the market beta, a risk based indicator dirived from the stock's volitity. Companies discount rates are different based on their beta value, with riskier companies' earnings discounted at a higher rate\n"
   ]
  },
  {
   "cell_type": "code",
   "execution_count": 2,
   "metadata": {},
   "outputs": [],
   "source": [
    "security = 'k'\n",
    "market_risk_premium = 0.10\n",
    "perpetual_rate = 0.02\n",
    "stock = yf.Ticker(security)\n",
    "today = datetime.now().date().strftime(\"%Y-%m-%d\")"
   ]
  },
  {
   "cell_type": "code",
   "execution_count": 3,
   "metadata": {},
   "outputs": [],
   "source": [
    "try:\n",
    "    company_name = stock.info['shortName']\n",
    "except KeyError: \n",
    "    company_name = security\n",
    "    growth_rate = 'NaN'\n",
    "    capm = 'NaN'\n",
    "    value = 'NaN'\n",
    "    share_price = 'NaN'\n",
    "    value_price = 'NaN'\n",
    "    margin_of_saftey = 'NaN'\n",
    "    \n",
    "    \n",
    "try:\n",
    "    num_shares = stock.info['sharesOutstanding']\n",
    "except KeyError: \n",
    "    num_shares = 1\n",
    "share_price = stock.history(today)['Close'][0]\n",
    "income_statement = stock.financials\n",
    "cash_flow = stock.cashflow\n",
    "balance_sheet = stock.balancesheet\n",
    "growth_rate = stock.analysis['Growth']['+5Y'] # note that terminal growth rate is based on analyst's estimate of a 5yr growth rate"
   ]
  },
  {
   "cell_type": "markdown",
   "metadata": {},
   "source": [
    "## Forecasting Net Income"
   ]
  },
  {
   "cell_type": "code",
   "execution_count": 4,
   "metadata": {},
   "outputs": [
    {
     "data": {
      "text/plain": [
       "\n",
       "2021-01-02    1.251e+09\n",
       "2019-12-28      9.6e+08\n",
       "2018-12-29    1.336e+09\n",
       "2017-12-30    1.254e+09\n",
       "Name: Net Income Applicable To Common Shares, dtype: object"
      ]
     },
     "metadata": {},
     "output_type": "display_data"
    }
   ],
   "source": [
    "## to calculate net income from the financial statements\n",
    "net_income = income_statement.loc['Net Income Applicable To Common Shares']\n",
    "display(net_income)"
   ]
  },
  {
   "cell_type": "code",
   "execution_count": 5,
   "metadata": {},
   "outputs": [
    {
     "name": "stdout",
     "output_type": "stream",
     "text": [
      "CAPM is 6.12%\n"
     ]
    }
   ],
   "source": [
    "# calculating CAPM\n",
    "beta = stock.info['beta']\n",
    "today = datetime.now().date().strftime(\"%Y-%m-%d\")\n",
    "risk_free_rate = yf.Ticker('^IRX').history(today)['Close'][0] / 100\n",
    "capm = risk_free_rate + (beta * market_risk_premium)\n",
    "print('CAPM is {:.2f}%'.format(capm*100))"
   ]
  },
  {
   "cell_type": "code",
   "execution_count": 6,
   "metadata": {},
   "outputs": [
    {
     "name": "stdout",
     "output_type": "stream",
     "text": [
      "Year five net income is $1460842755.72\n",
      "The terminal value is $36544185811.92\n",
      "The estimated intrinsic value of Kellogg Company is $32898026055.39\n",
      "This amounts to $96.44 per share.\n",
      "The stock is currently trading at $66.13 per share.\n"
     ]
    }
   ],
   "source": [
    "## estimating future earnings\n",
    "years = [1, 2, 3, 4, 5]\n",
    "future_income = []\n",
    "discounted_income = []\n",
    "for year in years:\n",
    "    income = net_income[0] * ((1 + growth_rate) ** year)\n",
    "    future_income.append(income)\n",
    "    disc_income = income / ((1 + capm) ** year)\n",
    "    discounted_income.append(disc_income)\n",
    "\n",
    "# calculating terminal value\n",
    "terminal_value = future_income[-1] * (1+growth_rate)/(capm - perpetual_rate)\n",
    "discounted_terminal_value = terminal_value / ((1 + capm) ** years[-1])\n",
    "\n",
    "# adding it all together\n",
    "value = sum(discounted_income) + discounted_terminal_value\n",
    "value_price = value / num_shares\n",
    "\n",
    "print('Year five net income is ${:.2f}'.format(future_income[-1]))\n",
    "print('The terminal value is ${:.2f}'.format(terminal_value))\n",
    "print('The estimated intrinsic value of ' + company_name + ' is ${:.2f}'.format(value))\n",
    "print('This amounts to ${:.2f}'.format(value_price) + ' per share.')\n",
    "print('The stock is currently trading at ${:.2f}'.format(share_price) + ' per share.')"
   ]
  }
 ],
 "metadata": {
  "kernelspec": {
   "display_name": "Python 3",
   "language": "python",
   "name": "python3"
  },
  "language_info": {
   "codemirror_mode": {
    "name": "ipython",
    "version": 3
   },
   "file_extension": ".py",
   "mimetype": "text/x-python",
   "name": "python",
   "nbconvert_exporter": "python",
   "pygments_lexer": "ipython3",
   "version": "3.8.3"
  }
 },
 "nbformat": 4,
 "nbformat_minor": 4
}
